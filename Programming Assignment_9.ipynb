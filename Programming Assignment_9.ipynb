{
 "cells": [
  {
   "cell_type": "markdown",
   "id": "47b9bb99",
   "metadata": {},
   "source": [
    "## Programming Assignment_9\n",
    "----------------"
   ]
  },
  {
   "cell_type": "markdown",
   "id": "c725f7a9",
   "metadata": {},
   "source": [
    "### 1. Write a Python program to check if the given number is a Disarium Number?"
   ]
  },
  {
   "cell_type": "code",
   "execution_count": 1,
   "id": "96923995-9959-465d-a187-1a954381ce93",
   "metadata": {},
   "outputs": [
    {
     "name": "stdin",
     "output_type": "stream",
     "text": [
      "Enter the number:  55\n"
     ]
    },
    {
     "name": "stdout",
     "output_type": "stream",
     "text": [
      "55 is not a Disarium Number\n"
     ]
    }
   ],
   "source": [
    "n = int(input(\"Enter the number: \"))\n",
    "temp = n\n",
    "count = 0\n",
    "while temp>0:\n",
    "    temp = temp//10\n",
    "    count = count+1\n",
    "\n",
    "sum =0\n",
    "x=n\n",
    "while x>0:\n",
    "    rem= x%10\n",
    "    sum = sum+rem**count\n",
    "    x=x//10\n",
    "    count = count-1\n",
    "if sum==n:\n",
    "    print(n,\"is a Disarium Number\")\n",
    "else:\n",
    "    print(n,\"is not a Disarium Number\")\n"
   ]
  },
  {
   "cell_type": "markdown",
   "id": "f0064401",
   "metadata": {},
   "source": [
    "### 2. Write a Python program to print all disarium numbers between 1 to 100?"
   ]
  },
  {
   "cell_type": "code",
   "execution_count": 2,
   "id": "2f56e2be-567b-4691-8951-c39d1e719534",
   "metadata": {},
   "outputs": [
    {
     "name": "stdout",
     "output_type": "stream",
     "text": [
      "Disarium numbers between 1 and 100 are: [1, 2, 3, 4, 5, 6, 7, 8, 9, 89]\n"
     ]
    }
   ],
   "source": [
    "def calculate_digits(num):\n",
    "    return len(str(num))\n",
    "\n",
    "def is_disarium(num):\n",
    "    digit_count = calculate_digits(num)\n",
    "    temp_num = num\n",
    "    result = 0\n",
    "\n",
    "    while temp_num > 0:\n",
    "        digit = temp_num % 10\n",
    "        result += digit ** digit_count\n",
    "        digit_count -= 1\n",
    "        temp_num //= 10\n",
    "\n",
    "    return result == num\n",
    "\n",
    "def find_disarium_numbers(start, end):\n",
    "    disarium_numbers = [num for num in range(start, end + 1) if is_disarium(num)]\n",
    "    return disarium_numbers\n",
    "\n",
    "\n",
    "start_range = 1\n",
    "end_range = 100\n",
    "\n",
    "disarium_numbers = find_disarium_numbers(start_range, end_range)\n",
    "print(\"Disarium numbers between\", start_range, \"and\", end_range, \"are:\", disarium_numbers)"
   ]
  },
  {
   "cell_type": "markdown",
   "id": "31df1e4a",
   "metadata": {},
   "source": [
    "### 3. Write a Python program to check if the given number is Happy Number?"
   ]
  },
  {
   "cell_type": "code",
   "execution_count": 3,
   "id": "dab370a1-9547-4e91-80c6-e6518088217f",
   "metadata": {},
   "outputs": [
    {
     "name": "stdin",
     "output_type": "stream",
     "text": [
      "Enter the number:  55\n"
     ]
    },
    {
     "name": "stdout",
     "output_type": "stream",
     "text": [
      "55 is not a happy number\n"
     ]
    }
   ],
   "source": [
    "n = int(input(\"Enter the number: \"))\n",
    "x = n\n",
    "while x>=10:\n",
    "    sum=0\n",
    "    while x>0:\n",
    "         r=x%10\n",
    "         sum = sum+(r**2)\n",
    "         x = x//10\n",
    "    x = sum\n",
    "\n",
    "if x==1:\n",
    "    print(n,\"is a happy number\")\n",
    "else:\n",
    "    print(n,\"is not a happy number\")\n",
    "    "
   ]
  },
  {
   "cell_type": "markdown",
   "id": "51b265e3",
   "metadata": {},
   "source": [
    "### 4. Write a Python program to print all happy numbers between 1 and 100?"
   ]
  },
  {
   "cell_type": "code",
   "execution_count": 4,
   "id": "12e3ee00-b2fe-45f6-a501-c7f32b60673d",
   "metadata": {},
   "outputs": [
    {
     "name": "stdout",
     "output_type": "stream",
     "text": [
      "Happy numbers between 1 and 100 are: [1, 10, 13, 19, 23, 28, 31, 32, 44, 49, 68, 70, 79, 82, 86, 91, 94, 97, 100]\n"
     ]
    }
   ],
   "source": [
    "def is_happy(n):\n",
    "    x = n\n",
    "    while x >= 10:\n",
    "        sum = 0\n",
    "        while x > 0:\n",
    "            r = x % 10\n",
    "            sum = sum + (r**2)\n",
    "            x = x // 10\n",
    "        x = sum\n",
    "    return x == 1\n",
    "\n",
    "def find_happy(start, end):\n",
    "    happy_numbers = [n for n in range(start, end + 1) if is_happy(n)]\n",
    "    return happy_numbers\n",
    "\n",
    "start_range = 1\n",
    "end_range = 100\n",
    "\n",
    "happy_numbers = find_happy(start_range, end_range)\n",
    "print(\"Happy numbers between\", start_range, \"and\", end_range, \"are:\", happy_numbers)\n"
   ]
  },
  {
   "cell_type": "markdown",
   "id": "6a190ee0",
   "metadata": {},
   "source": [
    "### 5. Write a Python program to determine whether the given number is a Harshad Number?"
   ]
  },
  {
   "cell_type": "code",
   "execution_count": 5,
   "id": "f0cd9d21-74dd-442a-ba78-4e99e07fa12c",
   "metadata": {},
   "outputs": [
    {
     "name": "stdin",
     "output_type": "stream",
     "text": [
      "Enter the number:  55\n"
     ]
    },
    {
     "name": "stdout",
     "output_type": "stream",
     "text": [
      "55 is not a Harshad Number\n"
     ]
    }
   ],
   "source": [
    "n = int(input(\"Enter the number: \"))\n",
    "x=n\n",
    "sum=0\n",
    "while x>0:\n",
    "    r=x%10\n",
    "    sum=sum+r\n",
    "    x=x//10\n",
    "\n",
    "if n%sum==0:\n",
    "    print(n,\"is a Harshad Number\")\n",
    "else:\n",
    "    print(n,\"is not a Harshad Number\")"
   ]
  },
  {
   "cell_type": "markdown",
   "id": "7a7ea92e",
   "metadata": {},
   "source": [
    "### 6. Write a Python program to print all pronic numbers between 1 and 100?"
   ]
  },
  {
   "cell_type": "code",
   "execution_count": 7,
   "id": "6b83310a-2880-43f3-a2d6-5c3699d9ee4e",
   "metadata": {},
   "outputs": [
    {
     "name": "stdout",
     "output_type": "stream",
     "text": [
      "Pronic numbers between 1 and 100 are: [2, 6, 12, 20, 30, 42, 56, 72, 90]\n"
     ]
    }
   ],
   "source": [
    "def is_pronic(n):\n",
    "    for i in range(1, int(n**0.5) + 1):\n",
    "        if i * (i + 1) == n:\n",
    "            return True\n",
    "    return False\n",
    "\n",
    "def find_pronic_numbers(start, end):\n",
    "    pronic_numbers = [n for n in range(start, end + 1) if is_pronic(n)]\n",
    "    return pronic_numbers\n",
    "\n",
    "start_range = 1\n",
    "end_range = 100\n",
    "\n",
    "pronic_numbers = find_pronic_numbers(start_range, end_range)\n",
    "print(\"Pronic numbers between\", start_range, \"and\", end_range, \"are:\", pronic_numbers)\n"
   ]
  },
  {
   "cell_type": "code",
   "execution_count": null,
   "id": "fba20b0c-b090-4520-9244-792f2bd5a35c",
   "metadata": {},
   "outputs": [],
   "source": []
  },
  {
   "cell_type": "code",
   "execution_count": null,
   "id": "b218166f-ae38-4ff9-bf94-f5bbb9a1fc9b",
   "metadata": {},
   "outputs": [],
   "source": []
  }
 ],
 "metadata": {
  "kernelspec": {
   "display_name": "Python 3 (ipykernel)",
   "language": "python",
   "name": "python3"
  },
  "language_info": {
   "codemirror_mode": {
    "name": "ipython",
    "version": 3
   },
   "file_extension": ".py",
   "mimetype": "text/x-python",
   "name": "python",
   "nbconvert_exporter": "python",
   "pygments_lexer": "ipython3",
   "version": "3.11.6"
  }
 },
 "nbformat": 4,
 "nbformat_minor": 5
}
