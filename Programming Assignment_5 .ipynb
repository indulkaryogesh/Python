{
 "cells": [
  {
   "cell_type": "markdown",
   "id": "4ac9602a",
   "metadata": {},
   "source": [
    "## Python Basic Programming Assignment - 5\n",
    "--------------\n"
   ]
  },
  {
   "cell_type": "markdown",
   "id": "fdaeee06",
   "metadata": {},
   "source": [
    "### 1. Write a Python Program to Find LCM?"
   ]
  },
  {
   "cell_type": "code",
   "execution_count": 7,
   "id": "6edd890f-5b67-41fb-ba1a-0e548fa3a315",
   "metadata": {},
   "outputs": [
    {
     "name": "stdin",
     "output_type": "stream",
     "text": [
      "Enter the first number:  12\n",
      "Enter the second number:  18\n"
     ]
    },
    {
     "name": "stdout",
     "output_type": "stream",
     "text": [
      "The LCM of 12 and 18 is 36\n"
     ]
    }
   ],
   "source": [
    "def gcd(x, y):\n",
    "    while y != 0:\n",
    "        (x, y) = (y, x % y)\n",
    "    return x\n",
    "\n",
    "a = int(input(\"Enter the first number: \"))\n",
    "b = int(input(\"Enter the second number: \"))\n",
    "\n",
    "# Calculate the LCM using the formula: LCM(a, b) = (a * b) / GCD(a, b)\n",
    "lcm = (a * b) // gcd(a, b)\n",
    "\n",
    "print(\"The LCM of\", a, \"and\", b, \"is\", lcm)\n"
   ]
  },
  {
   "cell_type": "markdown",
   "id": "2f459cdf",
   "metadata": {},
   "source": [
    "### 2. Write a Python Program to Find HCF?"
   ]
  },
  {
   "cell_type": "code",
   "execution_count": 4,
   "id": "864a7f6c-b6e8-4ed3-9aaf-c8a30615c193",
   "metadata": {},
   "outputs": [
    {
     "name": "stdin",
     "output_type": "stream",
     "text": [
      "Enter the first no.\n",
      " 12\n",
      "Enter the second no.\n",
      " 28\n"
     ]
    },
    {
     "name": "stdout",
     "output_type": "stream",
     "text": [
      "The HCF of these two numbers is 4\n"
     ]
    }
   ],
   "source": [
    "num1 =int(input(\"Enter the first no.\\n\"))\n",
    "num2 =int(input(\"Enter the second no.\\n\"))\n",
    "\n",
    "if num2> num1:\n",
    "    mn = num1\n",
    "else:\n",
    "    mn = num2\n",
    "\n",
    "for i in range(1, mn+1):\n",
    "    if num1%i ==0 and num2%i ==0:\n",
    "        hcf = i \n",
    "\n",
    "print(f\"The HCF of these two numbers is {hcf}\")\n"
   ]
  },
  {
   "cell_type": "markdown",
   "id": "d2c29370",
   "metadata": {},
   "source": [
    "### 3. Write a Python Program to Convert Decimal to Binary, Octal and Hexadecimal?"
   ]
  },
  {
   "cell_type": "code",
   "execution_count": 5,
   "id": "717f98b6-96dd-440c-9d59-12197d7c926d",
   "metadata": {},
   "outputs": [
    {
     "name": "stdin",
     "output_type": "stream",
     "text": [
      "Enter the Decimanl number 25\n"
     ]
    },
    {
     "name": "stdout",
     "output_type": "stream",
     "text": [
      "The conversion of decimal number  25 is: \n",
      "0b11001 in binary\n",
      "0o31 in octal\n",
      "0x19 Hexadecimal\n"
     ]
    }
   ],
   "source": [
    "decimal = int(input(\"Enter the Decimanl number\"))\n",
    "\n",
    "print(\"The conversion of decimal number \",decimal, \"is: \")\n",
    "print(bin(decimal), \"in binary\")\n",
    "print(oct(decimal), \"in octal\")\n",
    "print(hex(decimal), \"Hexadecimal\")"
   ]
  },
  {
   "cell_type": "markdown",
   "id": "2a16c5fd",
   "metadata": {},
   "source": [
    "### 4. Write a Python Program To Find ASCII value of a character?"
   ]
  },
  {
   "cell_type": "code",
   "execution_count": 6,
   "id": "c41f18b0-a4d6-49ca-9534-d39ee114a763",
   "metadata": {},
   "outputs": [
    {
     "name": "stdout",
     "output_type": "stream",
     "text": [
      "The ASCII value of  a is 97\n"
     ]
    }
   ],
   "source": [
    "char = 'a'\n",
    "\n",
    "print(\"The ASCII value of \", char, \"is\", ord(char))"
   ]
  },
  {
   "cell_type": "markdown",
   "id": "226778a0",
   "metadata": {},
   "source": [
    "### 5. Write a Python Program to Make a Simple Calculator with 4 basic mathematical operations?"
   ]
  },
  {
   "cell_type": "code",
   "execution_count": null,
   "id": "dec4b204-5344-42ea-96fa-e71e531979d3",
   "metadata": {},
   "outputs": [],
   "source": [
    "a = float(input(\"Enter the first number: \"))\n",
    "b = float(input(\"Enter the second number: \"))\n",
    "\n",
    "print(\n",
    "    \"Enter 1 for addition \\nEnter 2 for Subtraction \\nEnter 3 for multiplication \\nEnter 4 for division \\n\"\n",
    ")\n",
    "\n",
    "choice = int(input(\"Enter your choice from 1-4: \"))\n",
    "\n",
    "if choice ==1:\n",
    "    print(a+b)\n",
    "elif choice ==2:\n",
    "    print(a-b)\n",
    "elif choice ==3:\n",
    "    print(a*b)\n"
   ]
  }
 ],
 "metadata": {
  "kernelspec": {
   "display_name": "Python 3 (ipykernel)",
   "language": "python",
   "name": "python3"
  },
  "language_info": {
   "codemirror_mode": {
    "name": "ipython",
    "version": 3
   },
   "file_extension": ".py",
   "mimetype": "text/x-python",
   "name": "python",
   "nbconvert_exporter": "python",
   "pygments_lexer": "ipython3",
   "version": "3.11.6"
  }
 },
 "nbformat": 4,
 "nbformat_minor": 5
}
