{
 "cells": [
  {
   "cell_type": "markdown",
   "id": "ad3c798a",
   "metadata": {
    "id": "ad3c798a"
   },
   "source": [
    "## Programming Assignment_3\n",
    "----------------"
   ]
  },
  {
   "cell_type": "markdown",
   "id": "fdeb4706",
   "metadata": {
    "id": "fdeb4706"
   },
   "source": [
    "### 1. Write a Python Program to Check if a Number is Positive, Negative or Zero?"
   ]
  },
  {
   "cell_type": "code",
   "execution_count": 7,
   "id": "466e1bea-49fb-4df4-bf39-1dd0cfa59073",
   "metadata": {},
   "outputs": [
    {
     "name": "stdin",
     "output_type": "stream",
     "text": [
      "enter a number:  0\n"
     ]
    },
    {
     "name": "stdout",
     "output_type": "stream",
     "text": [
      "0 is a zero number\n"
     ]
    }
   ],
   "source": [
    "a = int(input(\"enter a number: \"))\n",
    "if a > 0:\n",
    "    print(\"{} is a positive number\".format(a))\n",
    "elif a < 0:\n",
    "    print(\"{} is a negative number\".format(a))\n",
    "else :\n",
    "    print(\"{} is a zero number\".format(a))"
   ]
  },
  {
   "cell_type": "markdown",
   "id": "086bfded",
   "metadata": {
    "id": "086bfded"
   },
   "source": [
    "### 2. Write a Python Program to Check if a Number is Odd or Even?\n"
   ]
  },
  {
   "cell_type": "code",
   "execution_count": 12,
   "id": "85eb39c7-8848-422d-916c-122a341297d2",
   "metadata": {},
   "outputs": [
    {
     "name": "stdin",
     "output_type": "stream",
     "text": [
      "enter a number:  100\n"
     ]
    },
    {
     "name": "stdout",
     "output_type": "stream",
     "text": [
      "100 is a even number\n"
     ]
    }
   ],
   "source": [
    "a = int(input(\"enter a number: \"))\n",
    "if a%2 == 0:\n",
    "    print(\"{} is a even number\".format(a))\n",
    "else :\n",
    "    print(\"{} is a odd number\".format(a))"
   ]
  },
  {
   "cell_type": "markdown",
   "id": "575e4f94",
   "metadata": {
    "id": "575e4f94"
   },
   "source": [
    "### 3. Write a Python Program to Check Leap Year?\n"
   ]
  },
  {
   "cell_type": "code",
   "execution_count": 16,
   "id": "a6b5e596-0c32-4fae-9f42-15d552b7737f",
   "metadata": {},
   "outputs": [
    {
     "name": "stdin",
     "output_type": "stream",
     "text": [
      "Enter a year:  2023\n"
     ]
    },
    {
     "name": "stdout",
     "output_type": "stream",
     "text": [
      "2023 is not a leap year\n"
     ]
    }
   ],
   "source": [
    "year = int(input(\"Enter a year: \"))\n",
    "if year%4 == 0 and year%100 == 0 :\n",
    "    print(\"{} is a leap year\".format(year))\n",
    "else :\n",
    "    print(\"{} is not a leap year\".format(year))"
   ]
  },
  {
   "cell_type": "markdown",
   "id": "aa83ce63",
   "metadata": {
    "id": "aa83ce63"
   },
   "source": [
    "### 4. Write a Python Program to Check Prime Number?"
   ]
  },
  {
   "cell_type": "code",
   "execution_count": 21,
   "id": "d45622d3-c24a-4a21-8bd7-f260732b7583",
   "metadata": {},
   "outputs": [
    {
     "name": "stdin",
     "output_type": "stream",
     "text": [
      "enter a number:  25\n"
     ]
    },
    {
     "name": "stdout",
     "output_type": "stream",
     "text": [
      "25 is not a prime number\n"
     ]
    }
   ],
   "source": [
    "def is_prime(num):\n",
    "    if num > 1:\n",
    "        for i in range(2, num):\n",
    "            if (num % i) == 0:\n",
    "                return False\n",
    "        return True\n",
    "    else:\n",
    "        return False\n",
    "\n",
    "# Example usage\n",
    "num = int(input(\"enter a number: \"))\n",
    "if is_prime(num):\n",
    "    print(f\"{num} is a prime number\")\n",
    "else:\n",
    "    print(f\"{num} is not a prime number\")"
   ]
  },
  {
   "cell_type": "markdown",
   "id": "b44b54ff",
   "metadata": {
    "id": "b44b54ff"
   },
   "source": [
    "### 5. Write a Python Program to Print all Prime Numbers in an Interval of 1-10000?"
   ]
  },
  {
   "cell_type": "code",
   "execution_count": 29,
   "id": "c6862cb9-c885-4359-a21f-f7867c226c06",
   "metadata": {},
   "outputs": [
    {
     "ename": "SyntaxError",
     "evalue": "expected ':' (936882119.py, line 2)",
     "output_type": "error",
     "traceback": [
      "\u001b[1;36m  Cell \u001b[1;32mIn[29], line 2\u001b[1;36m\u001b[0m\n\u001b[1;33m    for i in range(1,10000)\u001b[0m\n\u001b[1;37m                           ^\u001b[0m\n\u001b[1;31mSyntaxError\u001b[0m\u001b[1;31m:\u001b[0m expected ':'\n"
     ]
    }
   ],
   "source": [
    " a > 1\n",
    "for i in range(1,10000):\n",
    "    if (a%i) == 0:\n",
    "        print(i)\n",
    "        "
   ]
  },
  {
   "cell_type": "code",
   "execution_count": null,
   "id": "8d323fa2-9489-4ce2-8597-45c233bbccd3",
   "metadata": {},
   "outputs": [],
   "source": []
  },
  {
   "cell_type": "code",
   "execution_count": null,
   "id": "83b56cd0-14d7-44b9-998c-9c966e49fa80",
   "metadata": {},
   "outputs": [],
   "source": []
  }
 ],
 "metadata": {
  "colab": {
   "provenance": []
  },
  "kernelspec": {
   "display_name": "Python 3 (ipykernel)",
   "language": "python",
   "name": "python3"
  },
  "language_info": {
   "codemirror_mode": {
    "name": "ipython",
    "version": 3
   },
   "file_extension": ".py",
   "mimetype": "text/x-python",
   "name": "python",
   "nbconvert_exporter": "python",
   "pygments_lexer": "ipython3",
   "version": "3.11.5"
  }
 },
 "nbformat": 4,
 "nbformat_minor": 5
}
