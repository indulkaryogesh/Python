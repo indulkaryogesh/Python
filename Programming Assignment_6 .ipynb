{
 "cells": [
  {
   "cell_type": "markdown",
   "id": "84a41a9f",
   "metadata": {},
   "source": [
    "# Programming Basic Assignment 6"
   ]
  },
  {
   "cell_type": "markdown",
   "id": "a4b40558",
   "metadata": {},
   "source": [
    "### 1. Write a Python Program to Display Fibonacci Sequence Using Recursion?"
   ]
  },
  {
   "cell_type": "code",
   "execution_count": 2,
   "id": "7ec15408-92b0-4f55-8d43-824d1e2bb345",
   "metadata": {},
   "outputs": [
    {
     "name": "stdin",
     "output_type": "stream",
     "text": [
      "Enter the number for fibonacci sequence:  5\n"
     ]
    },
    {
     "name": "stdout",
     "output_type": "stream",
     "text": [
      "The Fibonacci sequence is \n",
      "0\n",
      "1\n",
      "1\n",
      "2\n",
      "3\n"
     ]
    }
   ],
   "source": [
    "def fibo(n):\n",
    "    if n <= 1:\n",
    "        return n\n",
    "    else:\n",
    "        return fibo(n-1)+ fibo(n-2)\n",
    "\n",
    "n = int(input(\"Enter the number for fibonacci sequence: \"))\n",
    "if n <= 0:\n",
    "    print(\"Enter a positive number\")\n",
    "else:\n",
    "    print(\"The Fibonacci sequence is \")\n",
    "    for i in range (n):\n",
    "        print(fibo(i))\n",
    "        "
   ]
  },
  {
   "cell_type": "markdown",
   "id": "d7a57f60",
   "metadata": {},
   "source": [
    "### 2. Write a Python Program to Find Factorial of Number Using Recursion?"
   ]
  },
  {
   "cell_type": "code",
   "execution_count": 4,
   "id": "a419152a-fac9-4bbd-9118-1ff1fba2ff8e",
   "metadata": {},
   "outputs": [
    {
     "name": "stdin",
     "output_type": "stream",
     "text": [
      "Enter a number for factorial:  6\n"
     ]
    },
    {
     "name": "stdout",
     "output_type": "stream",
     "text": [
      "Factorial of given number is:  720\n"
     ]
    }
   ],
   "source": [
    "def fact(n):\n",
    "    if n ==1:\n",
    "        return  n\n",
    "    else:\n",
    "        return (n * fact(n-1))\n",
    "\n",
    "n = int(input(\"Enter a number for factorial: \"))\n",
    "\n",
    "if n <= 0:\n",
    "    print(\"Factorial of number less than 1 does not exist\")\n",
    "else:\n",
    "    print(\"Factorial of given number is: \",fact(n))"
   ]
  },
  {
   "cell_type": "markdown",
   "id": "0357b86f",
   "metadata": {},
   "source": [
    "### 3. Write a Python Program to calculate your Body Mass Index?"
   ]
  },
  {
   "cell_type": "code",
   "execution_count": 6,
   "id": "59a01c7a-26a2-4dca-bf78-b58e40eba3cc",
   "metadata": {},
   "outputs": [
    {
     "name": "stdin",
     "output_type": "stream",
     "text": [
      "Enter the height in centimeters:  170\n",
      "Enter the weight in kg:  60\n"
     ]
    },
    {
     "name": "stdout",
     "output_type": "stream",
     "text": [
      "your body mass index is:  20.761245674740486\n",
      "You are Helathy\n"
     ]
    }
   ],
   "source": [
    "height = float(input(\"Enter the height in centimeters: \"))\n",
    "weight = float(input(\"Enter the weight in kg: \"))\n",
    "\n",
    "height = height/100\n",
    "bmi = weight/ (height*height)\n",
    "\n",
    "print(\"your body mass index is: \", bmi)\n",
    "\n",
    "if bmi>0:\n",
    "    if bmi<=16:\n",
    "        print(\"You are severely underweight\")\n",
    "    elif bmi<=18.5:\n",
    "        print(\"You are  underweight\")\n",
    "    elif bmi<=25:\n",
    "        print(\"You are Helathy\")\n",
    "    elif bmi<=30:\n",
    "        print(\"You are overweight\")\n",
    "else:\n",
    "    print(\"Please enter valid details\")"
   ]
  },
  {
   "cell_type": "markdown",
   "id": "96d344a4",
   "metadata": {},
   "source": [
    "### 4. Write a Python Program to calculate the natural logarithm of any number?"
   ]
  },
  {
   "cell_type": "code",
   "execution_count": 9,
   "id": "286d87e0-8481-4371-ad78-ea37715633ca",
   "metadata": {},
   "outputs": [
    {
     "name": "stdin",
     "output_type": "stream",
     "text": [
      "Enter the number to find logarithm:  25\n"
     ]
    },
    {
     "name": "stdout",
     "output_type": "stream",
     "text": [
      "The natural logarithm of 25 is\n",
      "3.2188758248682006\n"
     ]
    }
   ],
   "source": [
    "import math\n",
    "n = int(input(\"Enter the number to find logarithm: \"))\n",
    "print(\"The natural logarithm of\",n ,\"is\"  )\n",
    "print(math.log(n))"
   ]
  },
  {
   "cell_type": "markdown",
   "id": "11c0d92c",
   "metadata": {},
   "source": [
    "\n",
    "### 5. Write a Python Program for cube sum of first n natural numbers?\n"
   ]
  },
  {
   "cell_type": "code",
   "execution_count": 2,
   "id": "e143d4c6-0a2b-42d2-a738-1c4492b6c31b",
   "metadata": {},
   "outputs": [
    {
     "name": "stdin",
     "output_type": "stream",
     "text": [
      "Enter the number:  4\n"
     ]
    },
    {
     "name": "stdout",
     "output_type": "stream",
     "text": [
      "The sum of cube of natural number is:  100\n"
     ]
    }
   ],
   "source": [
    "n = int(input(\"Enter the number: \"))\n",
    "result = 0\n",
    "for i in range (1,n+1):\n",
    "    result = result+ pow(i,3)\n",
    "print(\"The sum of cube of natural number is: \", result)"
   ]
  },
  {
   "cell_type": "code",
   "execution_count": null,
   "id": "d5e17aad-3c4f-4efc-a82a-81f67f382669",
   "metadata": {},
   "outputs": [],
   "source": []
  }
 ],
 "metadata": {
  "kernelspec": {
   "display_name": "Python 3 (ipykernel)",
   "language": "python",
   "name": "python3"
  },
  "language_info": {
   "codemirror_mode": {
    "name": "ipython",
    "version": 3
   },
   "file_extension": ".py",
   "mimetype": "text/x-python",
   "name": "python",
   "nbconvert_exporter": "python",
   "pygments_lexer": "ipython3",
   "version": "3.11.6"
  }
 },
 "nbformat": 4,
 "nbformat_minor": 5
}
