{
 "cells": [
  {
   "cell_type": "markdown",
   "id": "08c66ea5",
   "metadata": {
    "id": "08c66ea5"
   },
   "source": [
    "## Programming Assignment_2\n",
    "-------------"
   ]
  },
  {
   "cell_type": "markdown",
   "id": "4e50cf42",
   "metadata": {
    "id": "4e50cf42"
   },
   "source": [
    "1. Write a Python program to convert kilometers to miles?\n"
   ]
  },
  {
   "cell_type": "code",
   "execution_count": 12,
   "id": "4a5cae0a-4170-42df-9b0b-ab266408f9fd",
   "metadata": {},
   "outputs": [
    {
     "name": "stdin",
     "output_type": "stream",
     "text": [
      "Enter value in kilometers:  25\n"
     ]
    },
    {
     "name": "stdout",
     "output_type": "stream",
     "text": [
      "25.0 kilometers is equal to 15.53 miles\n"
     ]
    }
   ],
   "source": [
    "kilometers = float(input(\"Enter value in kilometers: \"))\n",
    "\n",
    "# Conversion factor\n",
    "conv_fac = 0.621371\n",
    "\n",
    "# Calculate miles\n",
    "miles = kilometers * conv_fac\n",
    "\n",
    "print(\"{0} kilometers is equal to {1:.2f} miles\".format(kilometers, miles))"
   ]
  },
  {
   "cell_type": "markdown",
   "id": "0df4e6bf",
   "metadata": {
    "id": "0df4e6bf"
   },
   "source": [
    "### 2.Write a Python program to convert Celsius to Fahrenheit?"
   ]
  },
  {
   "cell_type": "code",
   "execution_count": 13,
   "id": "01971dc1-4e70-4524-ae63-cbf0a441e255",
   "metadata": {
    "id": "Q-iUx4CQoppc"
   },
   "outputs": [
    {
     "name": "stdin",
     "output_type": "stream",
     "text": [
      "Enter value in Celsius:  2\n"
     ]
    },
    {
     "name": "stdout",
     "output_type": "stream",
     "text": [
      "2.0 celsius is equal to 67.6 Fahrenheit\n"
     ]
    }
   ],
   "source": [
    "celsius = float(input(\"Enter value in Celsius: \"))\n",
    "\n",
    "conv_rate = 33.8\n",
    "\n",
    "Fahrenheit = celsius * 33.8\n",
    "\n",
    "print(\"{} celsius is equal to {} Fahrenheit\".format(celsius, Fahrenheit))"
   ]
  },
  {
   "cell_type": "markdown",
   "id": "46129b8e",
   "metadata": {
    "id": "46129b8e"
   },
   "source": [
    "3. Write a Python program to display calendar?\n"
   ]
  },
  {
   "cell_type": "code",
   "execution_count": 15,
   "id": "c1797de4-2702-4760-ad5c-0ba80925a734",
   "metadata": {},
   "outputs": [
    {
     "name": "stdin",
     "output_type": "stream",
     "text": [
      "Enter year:  2023\n",
      "Enter month:  9\n"
     ]
    },
    {
     "name": "stdout",
     "output_type": "stream",
     "text": [
      "September 2023\n",
      "Su Mo Tu We Th Fr Sa\n",
      "                1  2 \n",
      " 3  4  5  6  7  8  9 \n",
      "10 11 12 13 14 15 16 \n",
      "17 18 19 20 21 22 23 \n",
      "24 25 26 27 28 29 30 \n",
      "\n"
     ]
    }
   ],
   "source": [
    "year = int(input(\"Enter year: \"))\n",
    "month = int(input(\"Enter month: \"))\n",
    "\n",
    "# Number of days in each month\n",
    "days_in_month = [31, 28, 31, 30, 31, 30, 31, 31, 30, 31, 30, 31]\n",
    "\n",
    "# Names of months\n",
    "months = [\"January\", \"February\", \"March\", \"April\", \"May\", \"June\", \"July\",\n",
    "          \"August\", \"September\", \"October\", \"November\", \"December\"]\n",
    "\n",
    "# Check for leap year\n",
    "if year % 4 == 0 and year % 100 != 0 or year % 400 == 0:\n",
    "    days_in_month[1] = 29\n",
    "\n",
    "# Calculate the starting day of the week\n",
    "start_day = sum(days_in_month[:month-1]) % 7\n",
    "\n",
    "# Print the calendar header\n",
    "print(\"{0} {1}\".format(months[month-1], year))\n",
    "print(\"Su Mo Tu We Th Fr Sa\")\n",
    "\n",
    "# Print the calendar\n",
    "for i in range(start_day):\n",
    "    print(\"   \", end=\"\")\n",
    "for i in range(1, days_in_month[month-1]+1):\n",
    "    if i < 10:\n",
    "        print(\" \", end=\"\")\n",
    "    print(i, end=\" \")\n",
    "    if (i + start_day) % 7 == 0:\n",
    "        print()\n",
    "\n",
    "print()"
   ]
  },
  {
   "cell_type": "markdown",
   "id": "db2bf0f7",
   "metadata": {
    "id": "db2bf0f7"
   },
   "source": [
    "### 4. Write a Python program to solve quadratic equation?"
   ]
  },
  {
   "cell_type": "code",
   "execution_count": 17,
   "id": "32f28feb-7136-4aee-ad56-10903a36aea5",
   "metadata": {},
   "outputs": [
    {
     "name": "stdin",
     "output_type": "stream",
     "text": [
      "Enter the coefficient of x^2:  2\n",
      "Enter the coefficient of x:  4\n",
      "Enter the constant term:  26\n"
     ]
    },
    {
     "name": "stdout",
     "output_type": "stream",
     "text": [
      "The roots are (-1-3.4641016151377544j) and (-1+3.4641016151377544j)\n"
     ]
    }
   ],
   "source": [
    "import cmath\n",
    "\n",
    "a = float(input(\"Enter the coefficient of x^2: \"))\n",
    "b = float(input(\"Enter the coefficient of x: \"))\n",
    "c = float(input(\"Enter the constant term: \"))\n",
    "\n",
    "# Calculate the discriminant\n",
    "d = (b**2) - (4*a*c)\n",
    "\n",
    "# Find the roots\n",
    "root1 = (-b - cmath.sqrt(d)) / (2*a)\n",
    "root2 = (-b + cmath.sqrt(d)) / (2*a)\n",
    "\n",
    "print(\"The roots are {0} and {1}\".format(root1, root2))"
   ]
  },
  {
   "cell_type": "markdown",
   "id": "f70f74c9",
   "metadata": {
    "id": "f70f74c9"
   },
   "source": [
    "5. Write a Python program to swap two variables without temp variable?"
   ]
  },
  {
   "cell_type": "code",
   "execution_count": 18,
   "id": "e83fbff0-7f4b-4106-a0a9-123bd381b8a4",
   "metadata": {},
   "outputs": [
    {
     "name": "stdin",
     "output_type": "stream",
     "text": [
      "Enter first number:  2\n",
      "Enter second number:  5\n"
     ]
    },
    {
     "name": "stdout",
     "output_type": "stream",
     "text": [
      "After swapping, the value of x is 5.0 and the value of y is 2.0\n"
     ]
    }
   ],
   "source": [
    "x = float(input(\"Enter first number: \"))\n",
    "y = float(input(\"Enter second number: \"))\n",
    "\n",
    "# Swapping variables\n",
    "x, y = y, x\n",
    "\n",
    "print(\"After swapping, the value of x is {0} and the value of y is {1}\".format(x, y))\n"
   ]
  },
  {
   "cell_type": "code",
   "execution_count": null,
   "id": "db9fe1d3-a14f-46e7-97ae-ec14ca221053",
   "metadata": {},
   "outputs": [],
   "source": []
  }
 ],
 "metadata": {
  "colab": {
   "provenance": []
  },
  "kernelspec": {
   "display_name": "Python 3 (ipykernel)",
   "language": "python",
   "name": "python3"
  },
  "language_info": {
   "codemirror_mode": {
    "name": "ipython",
    "version": 3
   },
   "file_extension": ".py",
   "mimetype": "text/x-python",
   "name": "python",
   "nbconvert_exporter": "python",
   "pygments_lexer": "ipython3",
   "version": "3.11.5"
  }
 },
 "nbformat": 4,
 "nbformat_minor": 5
}
