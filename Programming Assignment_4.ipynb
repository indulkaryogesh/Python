{
 "cells": [
  {
   "cell_type": "markdown",
   "id": "20cb4340",
   "metadata": {
    "id": "20cb4340"
   },
   "source": [
    "## Programming Assignment_4\n",
    "----------------"
   ]
  },
  {
   "cell_type": "markdown",
   "id": "4fdb6695",
   "metadata": {
    "id": "4fdb6695"
   },
   "source": [
    "### 1. Write a Python Program to Find the Factorial of a Number?"
   ]
  },
  {
   "cell_type": "code",
   "execution_count": 1,
   "id": "hOeAnUwS8YPP",
   "metadata": {
    "id": "hOeAnUwS8YPP"
   },
   "outputs": [
    {
     "name": "stdin",
     "output_type": "stream",
     "text": [
      "enter the number:  5\n"
     ]
    },
    {
     "name": "stdout",
     "output_type": "stream",
     "text": [
      "The factorial of 5 is 120\n"
     ]
    }
   ],
   "source": [
    "def factorial(num):\n",
    "    if num < 0:\n",
    "        return \"Sorry, factorial does not exist for negative numbers\"\n",
    "    elif num == 0:\n",
    "        return \"The factorial of 0 is 1\"\n",
    "    else:\n",
    "        fact = 1\n",
    "        for i in range(1, num + 1):\n",
    "            fact *= i\n",
    "        return f\"The factorial of {num} is {fact}\"\n",
    "\n",
    "# Example usage\n",
    "num = int(input(\"enter the number: \"))\n",
    "print(factorial(num))"
   ]
  },
  {
   "cell_type": "markdown",
   "id": "e6beef62",
   "metadata": {
    "id": "e6beef62"
   },
   "source": [
    "### 2. Write a Python Program to Display the multiplication Table?"
   ]
  },
  {
   "cell_type": "code",
   "execution_count": 2,
   "id": "KRlnRPqETMOx",
   "metadata": {
    "id": "KRlnRPqETMOx"
   },
   "outputs": [
    {
     "name": "stdin",
     "output_type": "stream",
     "text": [
      "enter the No. for mulitplication table:  2\n"
     ]
    },
    {
     "name": "stdout",
     "output_type": "stream",
     "text": [
      "the multiplication table of 2 is\n",
      "2\n",
      "4\n",
      "6\n",
      "8\n",
      "10\n",
      "12\n",
      "14\n",
      "16\n",
      "18\n",
      "20\n"
     ]
    }
   ],
   "source": [
    "a = int(input(\"enter the No. for mulitplication table: \"))\n",
    "print (F\"the multiplication table of {a} is\" )\n",
    "for i in range(1,11):\n",
    "   \n",
    "    print(a*i)"
   ]
  },
  {
   "cell_type": "markdown",
   "id": "7de7eba5",
   "metadata": {
    "id": "7de7eba5"
   },
   "source": [
    "### 3. Write a Python Program to Print the Fibonacci sequence?\n"
   ]
  },
  {
   "cell_type": "code",
   "execution_count": 3,
   "id": "b52d6cda-1933-4178-a406-9de3472aef92",
   "metadata": {
    "id": "-DGZq5N22z65"
   },
   "outputs": [
    {
     "name": "stdin",
     "output_type": "stream",
     "text": [
      "How many terms?  5\n"
     ]
    },
    {
     "name": "stdout",
     "output_type": "stream",
     "text": [
      "Fibonacci sequence:\n",
      "0\n",
      "1\n",
      "1\n",
      "2\n",
      "3\n"
     ]
    }
   ],
   "source": [
    "nterms = int(input(\"How many terms? \"))\n",
    "\n",
    "\n",
    "n1, n2 = 0, 1\n",
    "count = 0\n",
    "\n",
    "\n",
    "if nterms <= 0:\n",
    "   print(\"Please enter a positive integer\")\n",
    "elif nterms == 1:\n",
    "   print(\"Fibonacci sequence upto\",nterms,\":\")\n",
    "   print(n1)\n",
    "else:\n",
    "   print(\"Fibonacci sequence:\")\n",
    "   while count < nterms:\n",
    "       print(n1)\n",
    "       nth = n1 + n2\n",
    "       n1 = n2\n",
    "       n2 = nth\n",
    "       count += 1\n"
   ]
  },
  {
   "cell_type": "markdown",
   "id": "0446442e",
   "metadata": {
    "id": "0446442e"
   },
   "source": [
    "### 4. Write a Python Program to Check Armstrong Number?"
   ]
  },
  {
   "cell_type": "code",
   "execution_count": 21,
   "id": "421398a1-e5db-4221-8d09-c9356ab825d8",
   "metadata": {},
   "outputs": [
    {
     "name": "stdin",
     "output_type": "stream",
     "text": [
      "Enter a number:  156\n"
     ]
    },
    {
     "name": "stdout",
     "output_type": "stream",
     "text": [
      "156 is not an Armstrong number\n"
     ]
    }
   ],
   "source": [
    "def is_armstrong_number(num):\n",
    "  \n",
    "    num_str = str(num)\n",
    "    num_digits = len(num_str)\n",
    "    \n",
    "    \n",
    "    armstrong_sum = sum(int(digit) ** num_digits for digit in num_str)\n",
    "    \n",
    "   \n",
    "    return armstrong_sum == num\n",
    "\n",
    "\n",
    "num = int(input(\"Enter a number: \"))\n",
    "\n",
    "\n",
    "if is_armstrong_number(num):\n",
    "    print(num, \"is an Armstrong number\")\n",
    "else:\n",
    "    print(num, \"is not an Armstrong number\")\n"
   ]
  },
  {
   "cell_type": "markdown",
   "id": "a6f9adfe",
   "metadata": {
    "id": "a6f9adfe"
   },
   "source": [
    "### 5. Write a Python Program to Find Armstrong Number in an Interval?"
   ]
  },
  {
   "cell_type": "code",
   "execution_count": 3,
   "id": "80a7e5b5-e911-45ce-8a63-3a1ec8604c70",
   "metadata": {},
   "outputs": [
    {
     "name": "stdin",
     "output_type": "stream",
     "text": [
      "Enter the lower limit of the interval:  100\n",
      "Enter the upper limit of the interval:  200\n"
     ]
    },
    {
     "name": "stdout",
     "output_type": "stream",
     "text": [
      "Armstrong numbers in the interval: [153]\n"
     ]
    }
   ],
   "source": [
    "def is_armstrong(number):\n",
    "    num_str = str(number)\n",
    "    \n",
    "    num_digits = len(num_str)\n",
    "    \n",
    "    sum_of_digits = sum(int(digit) ** num_digits for digit in num_str)\n",
    "    \n",
    "    if number == sum_of_digits:\n",
    "        return True\n",
    "    else:\n",
    "        return False\n",
    "\n",
    "lower_limit = int(input(\"Enter the lower limit of the interval: \"))\n",
    "upper_limit = int(input(\"Enter the upper limit of the interval: \"))\n",
    "\n",
    "armstrong_numbers = []\n",
    "\n",
    "for num in range(lower_limit, upper_limit + 1):\n",
    "    if is_armstrong(num):\n",
    "        armstrong_numbers.append(num)\n",
    "\n",
    "if armstrong_numbers:\n",
    "    print(\"Armstrong numbers in the interval:\", armstrong_numbers)\n",
    "else:\n",
    "    print(\"No Armstrong numbers found in the interval.\")"
   ]
  },
  {
   "cell_type": "markdown",
   "id": "157cad60",
   "metadata": {
    "id": "157cad60"
   },
   "source": [
    "### 6. Write a Python Program to Find the Sum of Natural Numbers?"
   ]
  },
  {
   "cell_type": "code",
   "execution_count": 17,
   "id": "ab15e6e6-a9a3-424d-8408-eb16aba86b12",
   "metadata": {},
   "outputs": [
    {
     "name": "stdin",
     "output_type": "stream",
     "text": [
      "enter the upper limit of no.:  50\n"
     ]
    },
    {
     "name": "stdout",
     "output_type": "stream",
     "text": [
      "sum of natural numbers from 1 to50 is 1275\n"
     ]
    }
   ],
   "source": [
    "n = int(input(\"enter the upper limit of no.: \"))\n",
    "a = 0\n",
    "for i in range(1, n+1):\n",
    "    a = a+ i\n",
    "print(f\"sum of natural numbers from 1 to{n} is {a}\")"
   ]
  },
  {
   "cell_type": "code",
   "execution_count": null,
   "id": "e39dc57d-d1ea-4827-832a-7c84f92ece84",
   "metadata": {},
   "outputs": [],
   "source": []
  }
 ],
 "metadata": {
  "colab": {
   "provenance": []
  },
  "kernelspec": {
   "display_name": "Python 3 (ipykernel)",
   "language": "python",
   "name": "python3"
  },
  "language_info": {
   "codemirror_mode": {
    "name": "ipython",
    "version": 3
   },
   "file_extension": ".py",
   "mimetype": "text/x-python",
   "name": "python",
   "nbconvert_exporter": "python",
   "pygments_lexer": "ipython3",
   "version": "3.11.6"
  }
 },
 "nbformat": 4,
 "nbformat_minor": 5
}
